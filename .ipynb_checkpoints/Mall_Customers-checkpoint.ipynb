{
 "cells": [
  {
   "cell_type": "markdown",
   "metadata": {},
   "source": [
    "## Proyecto 2:  Agrupación\n",
    "### Mall Customers\n",
    "Pablo López Landeros 178863\n",
    "\n",
    "Juan Pablo Álvarez Gamboa 165815   "
   ]
  },
  {
   "cell_type": "code",
   "execution_count": 179,
   "metadata": {},
   "outputs": [],
   "source": [
    "import pandas as pd\n",
    "import numpy as np\n",
    "import matplotlib.pyplot as plt\n",
    "import seaborn as sns\n",
    "from collections import Counter\n",
    "#%matplotlib inline\n",
    "np.random.seed(165815)"
   ]
  },
  {
   "cell_type": "code",
   "execution_count": 180,
   "metadata": {},
   "outputs": [
    {
     "data": {
      "text/plain": [
       "(200, 5)"
      ]
     },
     "execution_count": 180,
     "metadata": {},
     "output_type": "execute_result"
    }
   ],
   "source": [
    "customers = pd.read_csv('https://github.com/jpag2409/Mall_Customers/raw/master/Mall_Customers.csv')\n",
    "customers.shape"
   ]
  },
  {
   "cell_type": "code",
   "execution_count": 181,
   "metadata": {},
   "outputs": [
    {
     "data": {
      "text/html": [
       "<div>\n",
       "<style scoped>\n",
       "    .dataframe tbody tr th:only-of-type {\n",
       "        vertical-align: middle;\n",
       "    }\n",
       "\n",
       "    .dataframe tbody tr th {\n",
       "        vertical-align: top;\n",
       "    }\n",
       "\n",
       "    .dataframe thead th {\n",
       "        text-align: right;\n",
       "    }\n",
       "</style>\n",
       "<table border=\"1\" class=\"dataframe\">\n",
       "  <thead>\n",
       "    <tr style=\"text-align: right;\">\n",
       "      <th></th>\n",
       "      <th>CustomerID</th>\n",
       "      <th>Gender</th>\n",
       "      <th>Age</th>\n",
       "      <th>Annual Income (k$)</th>\n",
       "      <th>Spending Score (1-100)</th>\n",
       "    </tr>\n",
       "  </thead>\n",
       "  <tbody>\n",
       "    <tr>\n",
       "      <th>0</th>\n",
       "      <td>1</td>\n",
       "      <td>Male</td>\n",
       "      <td>19</td>\n",
       "      <td>15</td>\n",
       "      <td>39</td>\n",
       "    </tr>\n",
       "    <tr>\n",
       "      <th>1</th>\n",
       "      <td>2</td>\n",
       "      <td>Male</td>\n",
       "      <td>21</td>\n",
       "      <td>15</td>\n",
       "      <td>81</td>\n",
       "    </tr>\n",
       "    <tr>\n",
       "      <th>2</th>\n",
       "      <td>3</td>\n",
       "      <td>Female</td>\n",
       "      <td>20</td>\n",
       "      <td>16</td>\n",
       "      <td>6</td>\n",
       "    </tr>\n",
       "    <tr>\n",
       "      <th>3</th>\n",
       "      <td>4</td>\n",
       "      <td>Female</td>\n",
       "      <td>23</td>\n",
       "      <td>16</td>\n",
       "      <td>77</td>\n",
       "    </tr>\n",
       "    <tr>\n",
       "      <th>4</th>\n",
       "      <td>5</td>\n",
       "      <td>Female</td>\n",
       "      <td>31</td>\n",
       "      <td>17</td>\n",
       "      <td>40</td>\n",
       "    </tr>\n",
       "  </tbody>\n",
       "</table>\n",
       "</div>"
      ],
      "text/plain": [
       "   CustomerID  Gender  Age  Annual Income (k$)  Spending Score (1-100)\n",
       "0           1    Male   19                  15                      39\n",
       "1           2    Male   21                  15                      81\n",
       "2           3  Female   20                  16                       6\n",
       "3           4  Female   23                  16                      77\n",
       "4           5  Female   31                  17                      40"
      ]
     },
     "execution_count": 181,
     "metadata": {},
     "output_type": "execute_result"
    }
   ],
   "source": [
    "customers.head()"
   ]
  },
  {
   "cell_type": "markdown",
   "metadata": {},
   "source": [
    "### Tipo de datos"
   ]
  },
  {
   "cell_type": "code",
   "execution_count": 182,
   "metadata": {},
   "outputs": [
    {
     "data": {
      "text/plain": [
       "CustomerID                 int64\n",
       "Gender                    object\n",
       "Age                        int64\n",
       "Annual Income (k$)         int64\n",
       "Spending Score (1-100)     int64\n",
       "dtype: object"
      ]
     },
     "execution_count": 182,
     "metadata": {},
     "output_type": "execute_result"
    }
   ],
   "source": [
    "customers.dtypes"
   ]
  },
  {
   "cell_type": "markdown",
   "metadata": {},
   "source": [
    "### Limpieza de nombres de columnas"
   ]
  },
  {
   "cell_type": "code",
   "execution_count": 183,
   "metadata": {},
   "outputs": [],
   "source": [
    "# Limpiar los nombres de columnas\n",
    "def _cleaner(col):\n",
    "    \"\"\"\n",
    "    Clean a specific column\n",
    "    \n",
    "    :param: column name to clean\n",
    "    :return: column cleaned, without blank spaces, point and accents\n",
    "    \"\"\"\n",
    "    return col.lower()\\\n",
    "    .replace(' ','_').replace('.','')\\\n",
    "    .replace('/','_').replace(';','')\\\n",
    "    .replace('á','a').replace('é','e')\\\n",
    "    .replace('í','i').replace('ó','o')\\\n",
    "    .replace('ú','u')"
   ]
  },
  {
   "cell_type": "code",
   "execution_count": 184,
   "metadata": {},
   "outputs": [],
   "source": [
    "def clean_column_names(df):\n",
    "    \"\"\"\n",
    "    Clean column names of a dataframe: to lower, without accents, without spaces, without punctuation signs\n",
    "    \n",
    "    :param: dataframe to clean column names\n",
    "    :return: dataframe with clean column names\n",
    "    \"\"\"\n",
    "    cols = {col_name: _cleaner(col_name) for col_name in df.columns.values}\n",
    "    return df.rename(columns=cols, inplace=True)"
   ]
  },
  {
   "cell_type": "code",
   "execution_count": 185,
   "metadata": {},
   "outputs": [],
   "source": [
    "clean_column_names(customers)"
   ]
  },
  {
   "cell_type": "code",
   "execution_count": 186,
   "metadata": {},
   "outputs": [
    {
     "data": {
      "text/plain": [
       "Index(['customerid', 'gender', 'age', 'annual_income_(k$)',\n",
       "       'spending_score_(1-100)'],\n",
       "      dtype='object')"
      ]
     },
     "execution_count": 186,
     "metadata": {},
     "output_type": "execute_result"
    }
   ],
   "source": [
    "customers.columns"
   ]
  },
  {
   "cell_type": "markdown",
   "metadata": {},
   "source": [
    "### Tipos de variables"
   ]
  },
  {
   "cell_type": "code",
   "execution_count": 187,
   "metadata": {},
   "outputs": [
    {
     "data": {
      "text/plain": [
       "(4,\n",
       " array(['customerid', 'age', 'annual_income_(k$)',\n",
       "        'spending_score_(1-100)'], dtype=object))"
      ]
     },
     "execution_count": 187,
     "metadata": {},
     "output_type": "execute_result"
    }
   ],
   "source": [
    "# variables numéricas\n",
    "number_variables = customers.select_dtypes(include = 'number').columns.values\n",
    "(len(number_variables), number_variables)"
   ]
  },
  {
   "cell_type": "code",
   "execution_count": 188,
   "metadata": {},
   "outputs": [
    {
     "data": {
      "text/plain": [
       "(1, array(['gender'], dtype=object))"
      ]
     },
     "execution_count": 188,
     "metadata": {},
     "output_type": "execute_result"
    }
   ],
   "source": [
    "# strings \n",
    "string_variables = customers.select_dtypes(include = 'object').columns.values\n",
    "(len(string_variables), string_variables)"
   ]
  },
  {
   "cell_type": "code",
   "execution_count": 189,
   "metadata": {},
   "outputs": [
    {
     "name": "stdout",
     "output_type": "stream",
     "text": [
      "ok\n"
     ]
    }
   ],
   "source": [
    "# verify if we check for all the types\n",
    "if (sum([len(number_variables), len(string_variables)]) == customers.shape[1]): \n",
    "    print('ok')\n",
    "else:\n",
    "    print('columns missing')"
   ]
  },
  {
   "cell_type": "markdown",
   "metadata": {},
   "source": [
    "### Data profiling"
   ]
  },
  {
   "cell_type": "code",
   "execution_count": 190,
   "metadata": {},
   "outputs": [],
   "source": [
    "def numeric_profiling(df, col, profiling_dict):\n",
    "    \"\"\"\n",
    "    Profiling for numeric columns. \n",
    "    \n",
    "    :param: column to analyze\n",
    "    :return: dictionary\n",
    "    \"\"\"\n",
    "    profiling = {}\n",
    "\n",
    "    profiling.update({'max': df[col].max(),\n",
    "                     'min': df[col].min(),\n",
    "                     'mean': df[col].mean(),\n",
    "                     'stdv': df[col].std(),\n",
    "                     '25%': df[col].quantile(.25),\n",
    "                     'median': df[col].median(),\n",
    "                     '75%': df[col].quantile(.75),\n",
    "                     'kurtosis': df[col].kurt(),\n",
    "                     'skewness': df[col].skew(),\n",
    "                     'uniques': df[col].nunique(),\n",
    "                     'prop_missings': sum(df[col].isna())/df[col].size*100,\n",
    "                     'top1_repeated': get_repeated_values(df, col, 1),\n",
    "                     'top2_repeated': get_repeated_values(df, col, 2),\n",
    "                     'top3_repeated': get_repeated_values(df, col, 3)})\n",
    "    \n",
    "    profiling_dict.update({col: profiling})\n",
    "    \n",
    "    return profiling_dict"
   ]
  },
  {
   "cell_type": "code",
   "execution_count": 191,
   "metadata": {},
   "outputs": [],
   "source": [
    "def get_repeated_values(df, col, top):\n",
    "    top_5 = df.groupby([col])[col]\\\n",
    "                    .count()\\\n",
    "                    .sort_values(ascending = False)\\\n",
    "                    .head()\n",
    "    indexes_top_5 = top_5.index\n",
    "    \n",
    "    if ((top == 1) and (len(indexes_top_5) > 0)):\n",
    "        return indexes_top_5[0]\n",
    "    elif ((top == 2) and (len(indexes_top_5) > 1)):\n",
    "        return indexes_top_5[1]\n",
    "    elif ((top == 3) and (len(indexes_top_5) > 2)):\n",
    "        return indexes_top_5[2]\n",
    "    else: \n",
    "        return 'undefined'"
   ]
  },
  {
   "cell_type": "code",
   "execution_count": 192,
   "metadata": {},
   "outputs": [],
   "source": [
    "profiling_dict = {}\n",
    "\n",
    "numeric_profiling_output = [numeric_profiling(customers, elem, profiling_dict)\\\n",
    "                            for elem in number_variables]"
   ]
  },
  {
   "cell_type": "code",
   "execution_count": 193,
   "metadata": {
    "scrolled": true
   },
   "outputs": [
    {
     "data": {
      "text/html": [
       "<div>\n",
       "<style scoped>\n",
       "    .dataframe tbody tr th:only-of-type {\n",
       "        vertical-align: middle;\n",
       "    }\n",
       "\n",
       "    .dataframe tbody tr th {\n",
       "        vertical-align: top;\n",
       "    }\n",
       "\n",
       "    .dataframe thead th {\n",
       "        text-align: right;\n",
       "    }\n",
       "</style>\n",
       "<table border=\"1\" class=\"dataframe\">\n",
       "  <thead>\n",
       "    <tr style=\"text-align: right;\">\n",
       "      <th></th>\n",
       "      <th>metric</th>\n",
       "      <th>customerid</th>\n",
       "      <th>age</th>\n",
       "      <th>annual_income_(k$)</th>\n",
       "      <th>spending_score_(1-100)</th>\n",
       "    </tr>\n",
       "  </thead>\n",
       "  <tbody>\n",
       "    <tr>\n",
       "      <th>0</th>\n",
       "      <td>max</td>\n",
       "      <td>200.000000</td>\n",
       "      <td>70.000000</td>\n",
       "      <td>137.000000</td>\n",
       "      <td>99.000000</td>\n",
       "    </tr>\n",
       "    <tr>\n",
       "      <th>1</th>\n",
       "      <td>min</td>\n",
       "      <td>1.000000</td>\n",
       "      <td>18.000000</td>\n",
       "      <td>15.000000</td>\n",
       "      <td>1.000000</td>\n",
       "    </tr>\n",
       "    <tr>\n",
       "      <th>2</th>\n",
       "      <td>mean</td>\n",
       "      <td>100.500000</td>\n",
       "      <td>38.850000</td>\n",
       "      <td>60.560000</td>\n",
       "      <td>50.200000</td>\n",
       "    </tr>\n",
       "    <tr>\n",
       "      <th>3</th>\n",
       "      <td>stdv</td>\n",
       "      <td>57.879185</td>\n",
       "      <td>13.969007</td>\n",
       "      <td>26.264721</td>\n",
       "      <td>25.823522</td>\n",
       "    </tr>\n",
       "    <tr>\n",
       "      <th>4</th>\n",
       "      <td>25%</td>\n",
       "      <td>50.750000</td>\n",
       "      <td>28.750000</td>\n",
       "      <td>41.500000</td>\n",
       "      <td>34.750000</td>\n",
       "    </tr>\n",
       "    <tr>\n",
       "      <th>5</th>\n",
       "      <td>median</td>\n",
       "      <td>100.500000</td>\n",
       "      <td>36.000000</td>\n",
       "      <td>61.500000</td>\n",
       "      <td>50.000000</td>\n",
       "    </tr>\n",
       "    <tr>\n",
       "      <th>6</th>\n",
       "      <td>75%</td>\n",
       "      <td>150.250000</td>\n",
       "      <td>49.000000</td>\n",
       "      <td>78.000000</td>\n",
       "      <td>73.000000</td>\n",
       "    </tr>\n",
       "    <tr>\n",
       "      <th>7</th>\n",
       "      <td>kurtosis</td>\n",
       "      <td>-1.200000</td>\n",
       "      <td>-0.671573</td>\n",
       "      <td>-0.098487</td>\n",
       "      <td>-0.826629</td>\n",
       "    </tr>\n",
       "    <tr>\n",
       "      <th>8</th>\n",
       "      <td>skewness</td>\n",
       "      <td>0.000000</td>\n",
       "      <td>0.485569</td>\n",
       "      <td>0.321843</td>\n",
       "      <td>-0.047220</td>\n",
       "    </tr>\n",
       "    <tr>\n",
       "      <th>9</th>\n",
       "      <td>uniques</td>\n",
       "      <td>200.000000</td>\n",
       "      <td>51.000000</td>\n",
       "      <td>64.000000</td>\n",
       "      <td>84.000000</td>\n",
       "    </tr>\n",
       "    <tr>\n",
       "      <th>10</th>\n",
       "      <td>prop_missings</td>\n",
       "      <td>0.000000</td>\n",
       "      <td>0.000000</td>\n",
       "      <td>0.000000</td>\n",
       "      <td>0.000000</td>\n",
       "    </tr>\n",
       "    <tr>\n",
       "      <th>11</th>\n",
       "      <td>top1_repeated</td>\n",
       "      <td>200.000000</td>\n",
       "      <td>32.000000</td>\n",
       "      <td>54.000000</td>\n",
       "      <td>42.000000</td>\n",
       "    </tr>\n",
       "    <tr>\n",
       "      <th>12</th>\n",
       "      <td>top2_repeated</td>\n",
       "      <td>63.000000</td>\n",
       "      <td>35.000000</td>\n",
       "      <td>78.000000</td>\n",
       "      <td>55.000000</td>\n",
       "    </tr>\n",
       "    <tr>\n",
       "      <th>13</th>\n",
       "      <td>top3_repeated</td>\n",
       "      <td>73.000000</td>\n",
       "      <td>19.000000</td>\n",
       "      <td>60.000000</td>\n",
       "      <td>46.000000</td>\n",
       "    </tr>\n",
       "  </tbody>\n",
       "</table>\n",
       "</div>"
      ],
      "text/plain": [
       "           metric  customerid        age  annual_income_(k$)  \\\n",
       "0             max  200.000000  70.000000          137.000000   \n",
       "1             min    1.000000  18.000000           15.000000   \n",
       "2            mean  100.500000  38.850000           60.560000   \n",
       "3            stdv   57.879185  13.969007           26.264721   \n",
       "4             25%   50.750000  28.750000           41.500000   \n",
       "5          median  100.500000  36.000000           61.500000   \n",
       "6             75%  150.250000  49.000000           78.000000   \n",
       "7        kurtosis   -1.200000  -0.671573           -0.098487   \n",
       "8        skewness    0.000000   0.485569            0.321843   \n",
       "9         uniques  200.000000  51.000000           64.000000   \n",
       "10  prop_missings    0.000000   0.000000            0.000000   \n",
       "11  top1_repeated  200.000000  32.000000           54.000000   \n",
       "12  top2_repeated   63.000000  35.000000           78.000000   \n",
       "13  top3_repeated   73.000000  19.000000           60.000000   \n",
       "\n",
       "    spending_score_(1-100)  \n",
       "0                99.000000  \n",
       "1                 1.000000  \n",
       "2                50.200000  \n",
       "3                25.823522  \n",
       "4                34.750000  \n",
       "5                50.000000  \n",
       "6                73.000000  \n",
       "7                -0.826629  \n",
       "8                -0.047220  \n",
       "9                84.000000  \n",
       "10                0.000000  \n",
       "11               42.000000  \n",
       "12               55.000000  \n",
       "13               46.000000  "
      ]
     },
     "execution_count": 193,
     "metadata": {},
     "output_type": "execute_result"
    }
   ],
   "source": [
    "df_numeric_profiling = pd.DataFrame(numeric_profiling_output[0]).reset_index()\n",
    "df_numeric_profiling.rename(columns={'index': 'metric'}, inplace=True)\n",
    "df_numeric_profiling"
   ]
  },
  {
   "cell_type": "markdown",
   "metadata": {},
   "source": [
    "Vemos que nuestro dataset cuenta con 200 clientes distintos. Su rango de ingreso es muy variado ya que el mínimo está en $15,000 anuales y el máximo en $137,000. Tal vez el centro comercial sea de tiendas como joyerías ya que vemos que el cliente más joven tiene 18 años. Es decir, no es un centro comercial a donde vayan niños. Más aun, el valor de edad que más se repite es 32 años y el segundo 35. Luego entonces podemos asumir que la plaza no tiene tiendas del giro de Gameplanet o Ferrioni. Vemos que es un dataset completo al 100% ya que no falta ningún dato. Tiene sentido ya que es un dataset pequeño. Sobre la variable spending score no podemos saber mucho, su media es igual a su mediana, su máximo es 99 y su mínimo es 1 entonces poco se puede saber a priori sobre los hábitos de los clientes."
   ]
  },
  {
   "cell_type": "code",
   "execution_count": 194,
   "metadata": {},
   "outputs": [
    {
     "data": {
      "text/html": [
       "<div>\n",
       "<style scoped>\n",
       "    .dataframe tbody tr th:only-of-type {\n",
       "        vertical-align: middle;\n",
       "    }\n",
       "\n",
       "    .dataframe tbody tr th {\n",
       "        vertical-align: top;\n",
       "    }\n",
       "\n",
       "    .dataframe thead th {\n",
       "        text-align: right;\n",
       "    }\n",
       "</style>\n",
       "<table border=\"1\" class=\"dataframe\">\n",
       "  <thead>\n",
       "    <tr style=\"text-align: right;\">\n",
       "      <th></th>\n",
       "      <th>customerid</th>\n",
       "      <th>age</th>\n",
       "      <th>annual_income_(k$)</th>\n",
       "      <th>spending_score_(1-100)</th>\n",
       "    </tr>\n",
       "  </thead>\n",
       "  <tbody>\n",
       "    <tr>\n",
       "      <th>count</th>\n",
       "      <td>200.000000</td>\n",
       "      <td>200.000000</td>\n",
       "      <td>200.000000</td>\n",
       "      <td>200.000000</td>\n",
       "    </tr>\n",
       "    <tr>\n",
       "      <th>mean</th>\n",
       "      <td>100.500000</td>\n",
       "      <td>38.850000</td>\n",
       "      <td>60.560000</td>\n",
       "      <td>50.200000</td>\n",
       "    </tr>\n",
       "    <tr>\n",
       "      <th>std</th>\n",
       "      <td>57.879185</td>\n",
       "      <td>13.969007</td>\n",
       "      <td>26.264721</td>\n",
       "      <td>25.823522</td>\n",
       "    </tr>\n",
       "    <tr>\n",
       "      <th>min</th>\n",
       "      <td>1.000000</td>\n",
       "      <td>18.000000</td>\n",
       "      <td>15.000000</td>\n",
       "      <td>1.000000</td>\n",
       "    </tr>\n",
       "    <tr>\n",
       "      <th>25%</th>\n",
       "      <td>50.750000</td>\n",
       "      <td>28.750000</td>\n",
       "      <td>41.500000</td>\n",
       "      <td>34.750000</td>\n",
       "    </tr>\n",
       "    <tr>\n",
       "      <th>50%</th>\n",
       "      <td>100.500000</td>\n",
       "      <td>36.000000</td>\n",
       "      <td>61.500000</td>\n",
       "      <td>50.000000</td>\n",
       "    </tr>\n",
       "    <tr>\n",
       "      <th>75%</th>\n",
       "      <td>150.250000</td>\n",
       "      <td>49.000000</td>\n",
       "      <td>78.000000</td>\n",
       "      <td>73.000000</td>\n",
       "    </tr>\n",
       "    <tr>\n",
       "      <th>max</th>\n",
       "      <td>200.000000</td>\n",
       "      <td>70.000000</td>\n",
       "      <td>137.000000</td>\n",
       "      <td>99.000000</td>\n",
       "    </tr>\n",
       "  </tbody>\n",
       "</table>\n",
       "</div>"
      ],
      "text/plain": [
       "       customerid         age  annual_income_(k$)  spending_score_(1-100)\n",
       "count  200.000000  200.000000          200.000000              200.000000\n",
       "mean   100.500000   38.850000           60.560000               50.200000\n",
       "std     57.879185   13.969007           26.264721               25.823522\n",
       "min      1.000000   18.000000           15.000000                1.000000\n",
       "25%     50.750000   28.750000           41.500000               34.750000\n",
       "50%    100.500000   36.000000           61.500000               50.000000\n",
       "75%    150.250000   49.000000           78.000000               73.000000\n",
       "max    200.000000   70.000000          137.000000               99.000000"
      ]
     },
     "execution_count": 194,
     "metadata": {},
     "output_type": "execute_result"
    }
   ],
   "source": [
    "customers.describe()"
   ]
  },
  {
   "cell_type": "code",
   "execution_count": 195,
   "metadata": {},
   "outputs": [],
   "source": [
    "#import pandas_profiling"
   ]
  },
  {
   "cell_type": "code",
   "execution_count": 196,
   "metadata": {},
   "outputs": [],
   "source": [
    "#profile = customers.profile_report()"
   ]
  },
  {
   "cell_type": "markdown",
   "metadata": {},
   "source": [
    "### Preguntas EDA\n",
    "1. ¿Cuántos clientes diferentes hay en el dataset?\n",
    "\n"
   ]
  },
  {
   "cell_type": "code",
   "execution_count": 197,
   "metadata": {},
   "outputs": [
    {
     "name": "stdout",
     "output_type": "stream",
     "text": [
      "Este dataset cuenta con 200 clientes distintos\n"
     ]
    }
   ],
   "source": [
    "c=customers['customerid'].nunique()\n",
    "print(\"Este dataset cuenta con \"+str(c)+\" clientes distintos\")"
   ]
  },
  {
   "cell_type": "markdown",
   "metadata": {},
   "source": [
    "2. ¿Qué edad tiene el 75% de los clientes?   \n",
    "Obtuvimos que el 75% (Q3) de las observaciones tienen entre 18 y 49 años. Esto se puede ver en el \"numeric profiling\" (el valor mínimo de edad es 18 y el Q3 es de 49) u obteniendo manualmente el cuartil .75 y ayudarnos con un diagrama de caja. "
   ]
  },
  {
   "cell_type": "code",
   "execution_count": 198,
   "metadata": {},
   "outputs": [
    {
     "name": "stdout",
     "output_type": "stream",
     "text": [
      "El 75% de los clientes tienen 49.0 años\n"
     ]
    },
    {
     "data": {
      "text/plain": [
       "Text(0.5, 1.0, 'Diagrama de caja para la variable age')"
      ]
     },
     "execution_count": 198,
     "metadata": {},
     "output_type": "execute_result"
    },
    {
     "data": {
      "image/png": "[encoded data removed]",
      "text/plain": [
       "<Figure size 432x288 with 1 Axes>"
      ]
     },
     "metadata": {
      "needs_background": "light"
     },
     "output_type": "display_data"
    }
   ],
   "source": [
    "q=customers['age'].quantile(0.75)\n",
    "print(\"El 75% de los clientes tienen \"+str(q)+\" años\")\n",
    "ax = sns.boxplot(customers['age'])\n",
    "ax.set(xlabel=\"Edad (años)\")\n",
    "plt.title('Diagrama de caja para la variable age')"
   ]
  },
  {
   "cell_type": "markdown",
   "metadata": {},
   "source": [
    "Aquí podemos ver un poco más claro que nuestro centro comercial es concurrido por adultos jóvenes o de mediana edad. El 75% de los clientes tienen menos de 49 años. Además, solo el 25% tiene menos de 28 años. Por lo tanto, la mayoría de nuestros datos tienen son adultos jóvenes de entre 28 y 49 años."
   ]
  },
  {
   "cell_type": "markdown",
   "metadata": {},
   "source": [
    "3. Genera un boxplot con el `Anual Income`  por cuartil de edad."
   ]
  },
  {
   "cell_type": "code",
   "execution_count": 199,
   "metadata": {},
   "outputs": [],
   "source": [
    "#Voy a crear una función que nos agregue una columna en donde se indique el numero de quartil de edad al que pertenece\n",
    "def agregacuartiles(df):\n",
    "    q1=df['age'].quantile(0.25)\n",
    "    q2=df['age'].quantile(0.50)\n",
    "    q3=df['age'].quantile(0.75)\n",
    "    df['quartil'] = df['age'].apply(lambda x: 1 if x <= q1 else 2 if x>q1 and x<=q2 else 3 if x>q2 and x<=q3 else 4)\n",
    "    \n",
    "    "
   ]
  },
  {
   "cell_type": "code",
   "execution_count": 200,
   "metadata": {
    "scrolled": true
   },
   "outputs": [
    {
     "name": "stdout",
     "output_type": "stream",
     "text": [
      "Counter({2: 54, 3: 51, 1: 50, 4: 45})\n"
     ]
    },
    {
     "data": {
      "text/plain": [
       "Text(0.5, 1.0, 'Diagrama de caja para la variable `annual_income_(k$)`  por cuartil de edad')"
      ]
     },
     "execution_count": 200,
     "metadata": {},
     "output_type": "execute_result"
    },
    {
     "data": {
      "image/png": "[encoded data removed]",
      "text/plain": [
       "<Figure size 432x288 with 1 Axes>"
      ]
     },
     "metadata": {
      "needs_background": "light"
     },
     "output_type": "display_data"
    }
   ],
   "source": [
    "#Le aplico la funcion al dataframe de clientes y luego grafico agrupando por valores en la columna \"quartil\"\n",
    "agregacuartiles(customers)\n",
    "print(Counter(list(customers[\"quartil\"])))\n",
    "sns.boxplot(x=\"quartil\",y=\"annual_income_(k$)\", data=customers)\n",
    "plt.title('Diagrama de caja para la variable `annual_income_(k$)`  por cuartil de edad')"
   ]
  },
  {
   "cell_type": "markdown",
   "metadata": {},
   "source": [
    "El resultado creo que no es sorprendente. El primer cuartil registra un ingreso bajo porque aún no tienen mucha experiencia y ganan poco. Sin embargo, en el 2o y 3er cuartil que son entre los 28 y 49 años de edad, vemos que el ingreso sube un poco. Podemos suponer que esto es porque en esta edad es donde más activo se está enconómicamente hablando. Por útlimo, en el cuartil que va aproximadamente entre los 50 y 70 años, vemos que el ingreso anual disminuye un poco. De nuevo, esto tiene sentido ya que en los adultos de la tercera edad no son tan económicamente activos. "
   ]
  },
  {
   "cell_type": "markdown",
   "metadata": {},
   "source": [
    "4. Genera un histograma con el `Spending Score`"
   ]
  },
  {
   "cell_type": "code",
   "execution_count": 201,
   "metadata": {
    "scrolled": true
   },
   "outputs": [
    {
     "data": {
      "text/plain": [
       "Text(0, 0.5, 'Frecuencia')"
      ]
     },
     "execution_count": 201,
     "metadata": {},
     "output_type": "execute_result"
    },
    {
     "data": {
      "image/png": "[encoded data removed]",
      "text/plain": [
       "<Figure size 432x288 with 1 Axes>"
      ]
     },
     "metadata": {
      "needs_background": "light"
     },
     "output_type": "display_data"
    }
   ],
   "source": [
    "plt.hist(customers['spending_score_(1-100)'],bins=10)\n",
    "plt.title('Score de gasto')\n",
    "plt.locator_params(axis='y', integer=True)\n",
    "plt.xlabel(\"Score de gasto\")\n",
    "plt.ylabel(\"Frecuencia\")"
   ]
  },
  {
   "cell_type": "markdown",
   "metadata": {},
   "source": [
    "Primeramente notemos que esta variable podría ser aproximada por una sitribución normal. Vemos que los valores que se presentan con más frecuencia están entre 40 y 60. Esto nos da lugar a pensar que la mayoría de los clientes son medidos en su gasto. No son desenfrenados pero pueden ser propensos a gastar una buena cantidad. "
   ]
  },
  {
   "cell_type": "markdown",
   "metadata": {},
   "source": [
    "5. Genera una gráfica que incluya el histograma de `Spending Score` por `Gender`"
   ]
  },
  {
   "cell_type": "code",
   "execution_count": 202,
   "metadata": {},
   "outputs": [
    {
     "data": {
      "text/plain": [
       "(88, 6)"
      ]
     },
     "execution_count": 202,
     "metadata": {},
     "output_type": "execute_result"
    }
   ],
   "source": [
    "male = customers[customers.gender == 'Male']\n",
    "male.shape"
   ]
  },
  {
   "cell_type": "code",
   "execution_count": 203,
   "metadata": {},
   "outputs": [
    {
     "data": {
      "text/plain": [
       "(112, 6)"
      ]
     },
     "execution_count": 203,
     "metadata": {},
     "output_type": "execute_result"
    }
   ],
   "source": [
    "female = customers[customers.gender == 'Female']\n",
    "female.shape"
   ]
  },
  {
   "cell_type": "code",
   "execution_count": 204,
   "metadata": {},
   "outputs": [
    {
     "data": {
      "text/plain": [
       "Text(0, 0.5, 'Frecuencia')"
      ]
     },
     "execution_count": 204,
     "metadata": {},
     "output_type": "execute_result"
    },
    {
     "data": {
      "image/png": "[encoded data removed]",
      "text/plain": [
       "<Figure size 432x288 with 1 Axes>"
      ]
     },
     "metadata": {
      "needs_background": "light"
     },
     "output_type": "display_data"
    }
   ],
   "source": [
    "plt.hist(male['spending_score_(1-100)'],bins=10, alpha=0.3,label=\"Male\")\n",
    "plt.hist(female['spending_score_(1-100)'],bins=10, alpha=0.3,label=\"Female\")\n",
    "plt.legend(loc=\"best\")\n",
    "plt.title('Score de gasto por genero')\n",
    "plt.locator_params(axis='y', integer=True)\n",
    "plt.xlabel(\"Score de gasto\")\n",
    "plt.ylabel(\"Frecuencia\")"
   ]
  },
  {
   "cell_type": "markdown",
   "metadata": {},
   "source": [
    "De la gráfica anterior podemos ver que los hombres parecen ser menos propensos a gastar que las mujeres. Esto se ve porque hay un numero considerable de hobres qe presentan valores menores a 20. Sin embargo, para las mujeres el pico de frecuencia en spending score está entre 60 y 40. Además tambien en mujeres podemos ver frecuencia alta para el score entre 70 y 80. Finalmente vemos que aunque las frecuencias mayores tanto para hombres como para mujeres están entre 40 y 60, el pico de las mujeres es mayor. "
   ]
  },
  {
   "cell_type": "markdown",
   "metadata": {},
   "source": [
    "6. Genera un gráfica que incluya el histograma de `Annual Income` por `Gender`"
   ]
  },
  {
   "cell_type": "code",
   "execution_count": 206,
   "metadata": {},
   "outputs": [
    {
     "data": {
      "text/plain": [
       "Text(0, 0.5, 'Frecuencia')"
      ]
     },
     "execution_count": 206,
     "metadata": {},
     "output_type": "execute_result"
    },
    {
     "data": {
      "image/png": "[encoded data removed]",
      "text/plain": [
       "<Figure size 432x288 with 1 Axes>"
      ]
     },
     "metadata": {
      "needs_background": "light"
     },
     "output_type": "display_data"
    }
   ],
   "source": [
    "plt.hist(male['annual_income_(k$)'],bins=20, alpha=0.3,label=\"Male\")\n",
    "plt.hist(female['annual_income_(k$)'],bins=20, alpha=0.3,label=\"Female\")\n",
    "plt.legend(loc=\"best\")\n",
    "plt.title('Ingreso anual por genero')\n",
    "plt.locator_params(axis='y', integer=True)\n",
    "plt.xlabel(\"Ingreso Anual(en miles de pesos)\")\n",
    "plt.ylabel(\"Frecuencia\")"
   ]
  },
  {
   "cell_type": "markdown",
   "metadata": {},
   "source": [
    "Aquí podemos ver que casi en todos los rangos, hay más mujeres que ganan esa cantidad que hombres. Desafortunadamente, cabe destacar que ninguna mujer gana por arriba de los $130 k mensuales. Esto puede ser reflejo de la desigualdad de género que vivimos en el país. "
   ]
  },
  {
   "cell_type": "code",
   "execution_count": 207,
   "metadata": {},
   "outputs": [
    {
     "data": {
      "text/html": [
       "<div>\n",
       "<style scoped>\n",
       "    .dataframe tbody tr th:only-of-type {\n",
       "        vertical-align: middle;\n",
       "    }\n",
       "\n",
       "    .dataframe tbody tr th {\n",
       "        vertical-align: top;\n",
       "    }\n",
       "\n",
       "    .dataframe thead th {\n",
       "        text-align: right;\n",
       "    }\n",
       "</style>\n",
       "<table border=\"1\" class=\"dataframe\">\n",
       "  <thead>\n",
       "    <tr style=\"text-align: right;\">\n",
       "      <th></th>\n",
       "      <th>customerid</th>\n",
       "      <th>gender</th>\n",
       "      <th>age</th>\n",
       "      <th>annual_income_(k$)</th>\n",
       "      <th>spending_score_(1-100)</th>\n",
       "      <th>quartil</th>\n",
       "    </tr>\n",
       "  </thead>\n",
       "  <tbody>\n",
       "    <tr>\n",
       "      <th>0</th>\n",
       "      <td>1</td>\n",
       "      <td>0</td>\n",
       "      <td>19</td>\n",
       "      <td>15</td>\n",
       "      <td>39</td>\n",
       "      <td>1</td>\n",
       "    </tr>\n",
       "    <tr>\n",
       "      <th>1</th>\n",
       "      <td>2</td>\n",
       "      <td>0</td>\n",
       "      <td>21</td>\n",
       "      <td>15</td>\n",
       "      <td>81</td>\n",
       "      <td>1</td>\n",
       "    </tr>\n",
       "    <tr>\n",
       "      <th>2</th>\n",
       "      <td>3</td>\n",
       "      <td>1</td>\n",
       "      <td>20</td>\n",
       "      <td>16</td>\n",
       "      <td>6</td>\n",
       "      <td>1</td>\n",
       "    </tr>\n",
       "    <tr>\n",
       "      <th>3</th>\n",
       "      <td>4</td>\n",
       "      <td>1</td>\n",
       "      <td>23</td>\n",
       "      <td>16</td>\n",
       "      <td>77</td>\n",
       "      <td>1</td>\n",
       "    </tr>\n",
       "    <tr>\n",
       "      <th>4</th>\n",
       "      <td>5</td>\n",
       "      <td>1</td>\n",
       "      <td>31</td>\n",
       "      <td>17</td>\n",
       "      <td>40</td>\n",
       "      <td>2</td>\n",
       "    </tr>\n",
       "  </tbody>\n",
       "</table>\n",
       "</div>"
      ],
      "text/plain": [
       "   customerid gender  age  annual_income_(k$)  spending_score_(1-100)  quartil\n",
       "0           1      0   19                  15                      39        1\n",
       "1           2      0   21                  15                      81        1\n",
       "2           3      1   20                  16                       6        1\n",
       "3           4      1   23                  16                      77        1\n",
       "4           5      1   31                  17                      40        2"
      ]
     },
     "execution_count": 207,
     "metadata": {},
     "output_type": "execute_result"
    }
   ],
   "source": [
    "# Transformación de variables \n",
    "customers.gender.mask(customers.gender == 'Female','1', inplace=True)\n",
    "customers.gender.mask(customers.gender == 'Male', '0', inplace=True)\n",
    "customers.head()\n",
    "# Nota: No tiene sentido escalar gender"
   ]
  },
  {
   "cell_type": "markdown",
   "metadata": {},
   "source": [
    "### Escalamiento de datos"
   ]
  },
  {
   "cell_type": "code",
   "execution_count": 208,
   "metadata": {},
   "outputs": [],
   "source": [
    "from sklearn.preprocessing import scale"
   ]
  },
  {
   "cell_type": "markdown",
   "metadata": {},
   "source": [
    "* Nota: Decidimos excluir la variable género para realizar los clusters. Consultamos diversas fuentes (Cross Validated, Data Science stack exchange, libros) y todas indicaban que utilizar variables categóricas dentro de un algoritmo k-means es muy poco recomendable. Puede alterar los resultados negativamente. La justificación matemática que leímos fue que el algoritmo k means basa su funcionamiento en la distancia euclidiana. Para variables categóricas la métrica euclidiana en Rn no tiene mucho significado para valores discretos que se repiten. Más aún, para nuestro dataset, la norma euclidiana para una categoría binaria sería constante. "
   ]
  },
  {
   "cell_type": "code",
   "execution_count": 209,
   "metadata": {},
   "outputs": [
    {
     "data": {
      "text/plain": [
       "array([[-1.42456879, -1.73899919, -0.43480148],\n",
       "       [-1.28103541, -1.73899919,  1.19570407],\n",
       "       [-1.3528021 , -1.70082976, -1.71591298],\n",
       "       [-1.13750203, -1.70082976,  1.04041783],\n",
       "       [-0.56336851, -1.66266033, -0.39597992],\n",
       "       [-1.20926872, -1.66266033,  1.00159627],\n",
       "       [-0.27630176, -1.62449091, -1.71591298],\n",
       "       [-1.13750203, -1.62449091,  1.70038436],\n",
       "       [ 1.80493225, -1.58632148, -1.83237767],\n",
       "       [-0.6351352 , -1.58632148,  0.84631002]])"
      ]
     },
     "execution_count": 209,
     "metadata": {},
     "output_type": "execute_result"
    }
   ],
   "source": [
    "customers_scaled = scale(customers[['age','annual_income_(k$)','spending_score_(1-100)']], with_mean=True, with_std=True)\n",
    "customers_scaled[:10,]\n",
    "#Nota: Nos quedamos con las variables age, annual income y spending score"
   ]
  },
  {
   "cell_type": "markdown",
   "metadata": {},
   "source": [
    "### Grupos de 4"
   ]
  },
  {
   "cell_type": "code",
   "execution_count": 210,
   "metadata": {},
   "outputs": [
    {
     "data": {
      "text/plain": [
       "KMeans(algorithm='auto', copy_x=True, init='k-means++', max_iter=10,\n",
       "       n_clusters=4, n_init=10, n_jobs=-1, precompute_distances='auto',\n",
       "       random_state=None, tol=0.0001, verbose=0)"
      ]
     },
     "execution_count": 210,
     "metadata": {},
     "output_type": "execute_result"
    }
   ],
   "source": [
    "from sklearn.cluster import KMeans\n",
    "\n",
    "np.random.seed(165815)\n",
    "\n",
    "kmeans = KMeans(n_clusters=4, max_iter=10, n_jobs=-1)\n",
    "k_means_4 = kmeans.fit(customers_scaled)\n",
    "k_means_4"
   ]
  },
  {
   "cell_type": "code",
   "execution_count": 211,
   "metadata": {},
   "outputs": [
    {
     "data": {
      "text/plain": [
       "array([[-0.96249203, -0.78476346,  0.39202966],\n",
       "       [-0.42880597,  0.97484722,  1.21608539],\n",
       "       [ 1.08616125, -0.49056525, -0.39717443],\n",
       "       [ 0.03720536,  0.99011499, -1.18875705]])"
      ]
     },
     "execution_count": 211,
     "metadata": {},
     "output_type": "execute_result"
    }
   ],
   "source": [
    "k_means_4.cluster_centers_"
   ]
  },
  {
   "cell_type": "code",
   "execution_count": 212,
   "metadata": {},
   "outputs": [
    {
     "data": {
      "text/plain": [
       "array([0, 0, 0, 0, 0, 0, 2, 0, 2, 0, 2, 0, 2, 0, 2, 0, 0, 0, 2, 0, 0, 0,\n",
       "       2, 0, 2, 0, 2, 0, 2, 0, 2, 0, 2, 0, 2, 0, 2, 0, 2, 0, 2, 0, 2, 0,\n",
       "       2, 0, 2, 0, 0, 0, 2, 0, 0, 2, 2, 2, 2, 2, 0, 2, 2, 0, 2, 2, 2, 0,\n",
       "       2, 2, 0, 0])"
      ]
     },
     "execution_count": 212,
     "metadata": {},
     "output_type": "execute_result"
    }
   ],
   "source": [
    "labels = k_means_4.labels_\n",
    "labels[:70]"
   ]
  },
  {
   "cell_type": "code",
   "execution_count": 213,
   "metadata": {},
   "outputs": [
    {
     "data": {
      "text/html": [
       "<div>\n",
       "<style scoped>\n",
       "    .dataframe tbody tr th:only-of-type {\n",
       "        vertical-align: middle;\n",
       "    }\n",
       "\n",
       "    .dataframe tbody tr th {\n",
       "        vertical-align: top;\n",
       "    }\n",
       "\n",
       "    .dataframe thead th {\n",
       "        text-align: right;\n",
       "    }\n",
       "</style>\n",
       "<table border=\"1\" class=\"dataframe\">\n",
       "  <thead>\n",
       "    <tr style=\"text-align: right;\">\n",
       "      <th></th>\n",
       "      <th>age</th>\n",
       "      <th>annual_income_(k$)</th>\n",
       "      <th>spending_score_(1-100)</th>\n",
       "      <th>cluster</th>\n",
       "    </tr>\n",
       "  </thead>\n",
       "  <tbody>\n",
       "    <tr>\n",
       "      <th>0</th>\n",
       "      <td>-1.424569</td>\n",
       "      <td>-1.738999</td>\n",
       "      <td>-0.434801</td>\n",
       "      <td>0</td>\n",
       "    </tr>\n",
       "    <tr>\n",
       "      <th>1</th>\n",
       "      <td>-1.281035</td>\n",
       "      <td>-1.738999</td>\n",
       "      <td>1.195704</td>\n",
       "      <td>0</td>\n",
       "    </tr>\n",
       "    <tr>\n",
       "      <th>2</th>\n",
       "      <td>-1.352802</td>\n",
       "      <td>-1.700830</td>\n",
       "      <td>-1.715913</td>\n",
       "      <td>0</td>\n",
       "    </tr>\n",
       "    <tr>\n",
       "      <th>3</th>\n",
       "      <td>-1.137502</td>\n",
       "      <td>-1.700830</td>\n",
       "      <td>1.040418</td>\n",
       "      <td>0</td>\n",
       "    </tr>\n",
       "    <tr>\n",
       "      <th>4</th>\n",
       "      <td>-0.563369</td>\n",
       "      <td>-1.662660</td>\n",
       "      <td>-0.395980</td>\n",
       "      <td>0</td>\n",
       "    </tr>\n",
       "  </tbody>\n",
       "</table>\n",
       "</div>"
      ],
      "text/plain": [
       "        age  annual_income_(k$)  spending_score_(1-100)  cluster\n",
       "0 -1.424569           -1.738999               -0.434801        0\n",
       "1 -1.281035           -1.738999                1.195704        0\n",
       "2 -1.352802           -1.700830               -1.715913        0\n",
       "3 -1.137502           -1.700830                1.040418        0\n",
       "4 -0.563369           -1.662660               -0.395980        0"
      ]
     },
     "execution_count": 213,
     "metadata": {},
     "output_type": "execute_result"
    }
   ],
   "source": [
    "data = pd.DataFrame({'age': customers_scaled[:,0], \n",
    "                     'annual_income_(k$)': customers_scaled[:,1],\n",
    "                     'spending_score_(1-100)': customers_scaled[:,2],\n",
    "                     'cluster': labels})\n",
    "\n",
    "data.head()"
   ]
  },
  {
   "cell_type": "code",
   "execution_count": 214,
   "metadata": {},
   "outputs": [
    {
     "data": {
      "text/html": [
       "<div>\n",
       "<style scoped>\n",
       "    .dataframe tbody tr th:only-of-type {\n",
       "        vertical-align: middle;\n",
       "    }\n",
       "\n",
       "    .dataframe tbody tr th {\n",
       "        vertical-align: top;\n",
       "    }\n",
       "\n",
       "    .dataframe thead th {\n",
       "        text-align: right;\n",
       "    }\n",
       "</style>\n",
       "<table border=\"1\" class=\"dataframe\">\n",
       "  <thead>\n",
       "    <tr style=\"text-align: right;\">\n",
       "      <th></th>\n",
       "      <th>cluster</th>\n",
       "      <th>count</th>\n",
       "    </tr>\n",
       "  </thead>\n",
       "  <tbody>\n",
       "    <tr>\n",
       "      <th>0</th>\n",
       "      <td>0</td>\n",
       "      <td>57</td>\n",
       "    </tr>\n",
       "    <tr>\n",
       "      <th>1</th>\n",
       "      <td>1</td>\n",
       "      <td>40</td>\n",
       "    </tr>\n",
       "    <tr>\n",
       "      <th>2</th>\n",
       "      <td>2</td>\n",
       "      <td>65</td>\n",
       "    </tr>\n",
       "    <tr>\n",
       "      <th>3</th>\n",
       "      <td>3</td>\n",
       "      <td>38</td>\n",
       "    </tr>\n",
       "  </tbody>\n",
       "</table>\n",
       "</div>"
      ],
      "text/plain": [
       "   cluster  count\n",
       "0        0     57\n",
       "1        1     40\n",
       "2        2     65\n",
       "3        3     38"
      ]
     },
     "execution_count": 214,
     "metadata": {},
     "output_type": "execute_result"
    }
   ],
   "source": [
    "data.groupby(['cluster'])['annual_income_(k$)']\\\n",
    ".count()\\\n",
    ".reset_index()\\\n",
    ".rename(columns={\"annual_income_(k$)\": \"count\"})"
   ]
  },
  {
   "cell_type": "code",
   "execution_count": 215,
   "metadata": {},
   "outputs": [
    {
     "data": {
      "text/plain": [
       "array([[-0.96249203, -0.78476346,  0.39202966],\n",
       "       [-0.42880597,  0.97484722,  1.21608539],\n",
       "       [ 1.08616125, -0.49056525, -0.39717443],\n",
       "       [ 0.03720536,  0.99011499, -1.18875705]])"
      ]
     },
     "execution_count": 215,
     "metadata": {},
     "output_type": "execute_result"
    }
   ],
   "source": [
    "centroids = k_means_4.cluster_centers_\n",
    "centroids"
   ]
  },
  {
   "cell_type": "code",
   "execution_count": 216,
   "metadata": {},
   "outputs": [
    {
     "data": {
      "text/html": [
       "<div>\n",
       "<style scoped>\n",
       "    .dataframe tbody tr th:only-of-type {\n",
       "        vertical-align: middle;\n",
       "    }\n",
       "\n",
       "    .dataframe tbody tr th {\n",
       "        vertical-align: top;\n",
       "    }\n",
       "\n",
       "    .dataframe thead th {\n",
       "        text-align: right;\n",
       "    }\n",
       "</style>\n",
       "<table border=\"1\" class=\"dataframe\">\n",
       "  <thead>\n",
       "    <tr style=\"text-align: right;\">\n",
       "      <th></th>\n",
       "      <th>age</th>\n",
       "      <th>annual_income_(k$)</th>\n",
       "      <th>spending_score_(1-100)</th>\n",
       "      <th>cluster</th>\n",
       "    </tr>\n",
       "  </thead>\n",
       "  <tbody>\n",
       "    <tr>\n",
       "      <th>0</th>\n",
       "      <td>-0.962492</td>\n",
       "      <td>-0.784763</td>\n",
       "      <td>0.392030</td>\n",
       "      <td>-1</td>\n",
       "    </tr>\n",
       "    <tr>\n",
       "      <th>1</th>\n",
       "      <td>-0.428806</td>\n",
       "      <td>0.974847</td>\n",
       "      <td>1.216085</td>\n",
       "      <td>-1</td>\n",
       "    </tr>\n",
       "    <tr>\n",
       "      <th>2</th>\n",
       "      <td>1.086161</td>\n",
       "      <td>-0.490565</td>\n",
       "      <td>-0.397174</td>\n",
       "      <td>-1</td>\n",
       "    </tr>\n",
       "    <tr>\n",
       "      <th>3</th>\n",
       "      <td>0.037205</td>\n",
       "      <td>0.990115</td>\n",
       "      <td>-1.188757</td>\n",
       "      <td>-1</td>\n",
       "    </tr>\n",
       "  </tbody>\n",
       "</table>\n",
       "</div>"
      ],
      "text/plain": [
       "        age  annual_income_(k$)  spending_score_(1-100)  cluster\n",
       "0 -0.962492           -0.784763                0.392030       -1\n",
       "1 -0.428806            0.974847                1.216085       -1\n",
       "2  1.086161           -0.490565               -0.397174       -1\n",
       "3  0.037205            0.990115               -1.188757       -1"
      ]
     },
     "execution_count": 216,
     "metadata": {},
     "output_type": "execute_result"
    }
   ],
   "source": [
    "data_w_centroids = pd.DataFrame({'age': centroids[:,0], \n",
    "                                 'annual_income_(k$)': centroids[:,1],\n",
    "                                 'spending_score_(1-100)': centroids[:,2],\n",
    "                                 'cluster': [-1,-1,-1,-1]})\n",
    "\n",
    "data_w_centroids"
   ]
  },
  {
   "cell_type": "code",
   "execution_count": 217,
   "metadata": {},
   "outputs": [
    {
     "data": {
      "text/html": [
       "<div>\n",
       "<style scoped>\n",
       "    .dataframe tbody tr th:only-of-type {\n",
       "        vertical-align: middle;\n",
       "    }\n",
       "\n",
       "    .dataframe tbody tr th {\n",
       "        vertical-align: top;\n",
       "    }\n",
       "\n",
       "    .dataframe thead th {\n",
       "        text-align: right;\n",
       "    }\n",
       "</style>\n",
       "<table border=\"1\" class=\"dataframe\">\n",
       "  <thead>\n",
       "    <tr style=\"text-align: right;\">\n",
       "      <th></th>\n",
       "      <th>age</th>\n",
       "      <th>annual_income_(k$)</th>\n",
       "      <th>spending_score_(1-100)</th>\n",
       "      <th>cluster</th>\n",
       "    </tr>\n",
       "  </thead>\n",
       "  <tbody>\n",
       "    <tr>\n",
       "      <th>0</th>\n",
       "      <td>-0.962492</td>\n",
       "      <td>-0.784763</td>\n",
       "      <td>0.392030</td>\n",
       "      <td>-1</td>\n",
       "    </tr>\n",
       "    <tr>\n",
       "      <th>1</th>\n",
       "      <td>-0.428806</td>\n",
       "      <td>0.974847</td>\n",
       "      <td>1.216085</td>\n",
       "      <td>-1</td>\n",
       "    </tr>\n",
       "    <tr>\n",
       "      <th>2</th>\n",
       "      <td>1.086161</td>\n",
       "      <td>-0.490565</td>\n",
       "      <td>-0.397174</td>\n",
       "      <td>-1</td>\n",
       "    </tr>\n",
       "    <tr>\n",
       "      <th>3</th>\n",
       "      <td>0.037205</td>\n",
       "      <td>0.990115</td>\n",
       "      <td>-1.188757</td>\n",
       "      <td>-1</td>\n",
       "    </tr>\n",
       "    <tr>\n",
       "      <th>0</th>\n",
       "      <td>-1.424569</td>\n",
       "      <td>-1.738999</td>\n",
       "      <td>-0.434801</td>\n",
       "      <td>0</td>\n",
       "    </tr>\n",
       "  </tbody>\n",
       "</table>\n",
       "</div>"
      ],
      "text/plain": [
       "        age  annual_income_(k$)  spending_score_(1-100)  cluster\n",
       "0 -0.962492           -0.784763                0.392030       -1\n",
       "1 -0.428806            0.974847                1.216085       -1\n",
       "2  1.086161           -0.490565               -0.397174       -1\n",
       "3  0.037205            0.990115               -1.188757       -1\n",
       "0 -1.424569           -1.738999               -0.434801        0"
      ]
     },
     "execution_count": 217,
     "metadata": {},
     "output_type": "execute_result"
    }
   ],
   "source": [
    "all_data = data_w_centroids.append(data,sort=False)\n",
    "pd.set_option('display.max_rows', 15000)\n",
    "all_data.head()"
   ]
  },
  {
   "cell_type": "code",
   "execution_count": 218,
   "metadata": {},
   "outputs": [],
   "source": [
    "#from mpl_toolkits.mplot3d import Axes3D\n",
    "#fig = plt.figure()\n",
    "#ax = fig.add_subplot(111, projection='3d')\n",
    "#ax.scatter(xs='age', ys='annual_income_(k$)', zs='spending_score_(1-100)')"
   ]
  },
  {
   "cell_type": "markdown",
   "metadata": {},
   "source": [
    "### Método del codo (Elbow method)"
   ]
  },
  {
   "cell_type": "code",
   "execution_count": 219,
   "metadata": {},
   "outputs": [
    {
     "data": {
      "text/plain": [
       "KMeans(algorithm='auto', copy_x=True, init='k-means++', max_iter=10,\n",
       "       n_clusters=3, n_init=10, n_jobs=-1, precompute_distances='auto',\n",
       "       random_state=None, tol=0.0001, verbose=0)"
      ]
     },
     "execution_count": 219,
     "metadata": {},
     "output_type": "execute_result"
    }
   ],
   "source": [
    "kmeans_3 = KMeans(n_clusters=3, max_iter=10, n_jobs=-1)\n",
    "k_means_3 = kmeans_3.fit(customers_scaled)\n",
    "k_means_3"
   ]
  },
  {
   "cell_type": "code",
   "execution_count": 220,
   "metadata": {},
   "outputs": [
    {
     "data": {
      "text/plain": [
       "KMeans(algorithm='auto', copy_x=True, init='k-means++', max_iter=10,\n",
       "       n_clusters=5, n_init=10, n_jobs=-1, precompute_distances='auto',\n",
       "       random_state=None, tol=0.0001, verbose=0)"
      ]
     },
     "execution_count": 220,
     "metadata": {},
     "output_type": "execute_result"
    }
   ],
   "source": [
    "kmeans_5 = KMeans(n_clusters=5, max_iter=10, n_jobs=-1)\n",
    "k_means_5 = kmeans_5.fit(customers_scaled)\n",
    "k_means_5"
   ]
  },
  {
   "cell_type": "code",
   "execution_count": 221,
   "metadata": {},
   "outputs": [
    {
     "data": {
      "text/plain": [
       "KMeans(algorithm='auto', copy_x=True, init='k-means++', max_iter=10,\n",
       "       n_clusters=6, n_init=10, n_jobs=-1, precompute_distances='auto',\n",
       "       random_state=None, tol=0.0001, verbose=0)"
      ]
     },
     "execution_count": 221,
     "metadata": {},
     "output_type": "execute_result"
    }
   ],
   "source": [
    "kmeans_6 = KMeans(n_clusters=6, max_iter=10, n_jobs=-1)\n",
    "k_means_6 = kmeans_6.fit(customers_scaled)\n",
    "k_means_6"
   ]
  },
  {
   "cell_type": "code",
   "execution_count": 222,
   "metadata": {},
   "outputs": [
    {
     "data": {
      "text/plain": [
       "KMeans(algorithm='auto', copy_x=True, init='k-means++', max_iter=10,\n",
       "       n_clusters=7, n_init=10, n_jobs=-1, precompute_distances='auto',\n",
       "       random_state=None, tol=0.0001, verbose=0)"
      ]
     },
     "execution_count": 222,
     "metadata": {},
     "output_type": "execute_result"
    }
   ],
   "source": [
    "kmeans_7 = KMeans(n_clusters=7, max_iter=10, n_jobs=-1)\n",
    "k_means_7 = kmeans_7.fit(customers_scaled)\n",
    "k_means_7"
   ]
  },
  {
   "cell_type": "code",
   "execution_count": 223,
   "metadata": {},
   "outputs": [
    {
     "data": {
      "text/plain": [
       "KMeans(algorithm='auto', copy_x=True, init='k-means++', max_iter=10,\n",
       "       n_clusters=8, n_init=10, n_jobs=-1, precompute_distances='auto',\n",
       "       random_state=None, tol=0.0001, verbose=0)"
      ]
     },
     "execution_count": 223,
     "metadata": {},
     "output_type": "execute_result"
    }
   ],
   "source": [
    "kmeans_8 = KMeans(n_clusters=8, max_iter=10, n_jobs=-1)\n",
    "k_means_8 = kmeans_8.fit(customers_scaled)\n",
    "k_means_8"
   ]
  },
  {
   "cell_type": "code",
   "execution_count": 224,
   "metadata": {},
   "outputs": [
    {
     "data": {
      "text/plain": [
       "KMeans(algorithm='auto', copy_x=True, init='k-means++', max_iter=10,\n",
       "       n_clusters=9, n_init=10, n_jobs=-1, precompute_distances='auto',\n",
       "       random_state=None, tol=0.0001, verbose=0)"
      ]
     },
     "execution_count": 224,
     "metadata": {},
     "output_type": "execute_result"
    }
   ],
   "source": [
    "kmeans_9 = KMeans(n_clusters=9, max_iter=10, n_jobs=-1)\n",
    "k_means_9 = kmeans_9.fit(customers_scaled)\n",
    "k_means_9"
   ]
  },
  {
   "cell_type": "code",
   "execution_count": 225,
   "metadata": {},
   "outputs": [
    {
     "data": {
      "text/html": [
       "<div>\n",
       "<style scoped>\n",
       "    .dataframe tbody tr th:only-of-type {\n",
       "        vertical-align: middle;\n",
       "    }\n",
       "\n",
       "    .dataframe tbody tr th {\n",
       "        vertical-align: top;\n",
       "    }\n",
       "\n",
       "    .dataframe thead th {\n",
       "        text-align: right;\n",
       "    }\n",
       "</style>\n",
       "<table border=\"1\" class=\"dataframe\">\n",
       "  <thead>\n",
       "    <tr style=\"text-align: right;\">\n",
       "      <th></th>\n",
       "      <th>k</th>\n",
       "      <th>sse</th>\n",
       "    </tr>\n",
       "  </thead>\n",
       "  <tbody>\n",
       "    <tr>\n",
       "      <th>0</th>\n",
       "      <td>3</td>\n",
       "      <td>295.21</td>\n",
       "    </tr>\n",
       "    <tr>\n",
       "      <th>1</th>\n",
       "      <td>4</td>\n",
       "      <td>205.23</td>\n",
       "    </tr>\n",
       "    <tr>\n",
       "      <th>2</th>\n",
       "      <td>5</td>\n",
       "      <td>168.25</td>\n",
       "    </tr>\n",
       "    <tr>\n",
       "      <th>3</th>\n",
       "      <td>6</td>\n",
       "      <td>133.89</td>\n",
       "    </tr>\n",
       "    <tr>\n",
       "      <th>4</th>\n",
       "      <td>7</td>\n",
       "      <td>117.09</td>\n",
       "    </tr>\n",
       "    <tr>\n",
       "      <th>5</th>\n",
       "      <td>8</td>\n",
       "      <td>104.10</td>\n",
       "    </tr>\n",
       "    <tr>\n",
       "      <th>6</th>\n",
       "      <td>9</td>\n",
       "      <td>93.41</td>\n",
       "    </tr>\n",
       "  </tbody>\n",
       "</table>\n",
       "</div>"
      ],
      "text/plain": [
       "   k     sse\n",
       "0  3  295.21\n",
       "1  4  205.23\n",
       "2  5  168.25\n",
       "3  6  133.89\n",
       "4  7  117.09\n",
       "5  8  104.10\n",
       "6  9   93.41"
      ]
     },
     "execution_count": 225,
     "metadata": {},
     "output_type": "execute_result"
    }
   ],
   "source": [
    "sses = pd.DataFrame({'k': [3,4,5,6,7,8,9],\n",
    "                     'sse': [round(k_means_3.inertia_,2),\n",
    "                             round(k_means_4.inertia_,2),\n",
    "                             round(k_means_5.inertia_,2),\n",
    "                             round(k_means_6.inertia_,2), \n",
    "                             round(k_means_7.inertia_,2),\n",
    "                             round(k_means_8.inertia_,2),\n",
    "                             round(k_means_9.inertia_,2)]})\n",
    "\n",
    "sses"
   ]
  },
  {
   "cell_type": "code",
   "execution_count": 226,
   "metadata": {},
   "outputs": [
    {
     "data": {
      "image/png": "[encoded data removed]",
      "text/plain": [
       "<Figure size 432x288 with 1 Axes>"
      ]
     },
     "metadata": {
      "needs_background": "light"
     },
     "output_type": "display_data"
    }
   ],
   "source": [
    "plt.clf()\n",
    "plt.plot(sses.k, sses.sse)\n",
    "plt.scatter(sses.k, sses.sse)\n",
    "plt.xticks([3,4,5,6,7,8,9])\n",
    "plt.xlabel(\"k\")\n",
    "plt.ylabel(\"sse\")\n",
    "plt.title(\"Elbow graph\")\n",
    "plt.show()"
   ]
  },
  {
   "cell_type": "markdown",
   "metadata": {},
   "source": [
    "7. ¿Cuál es la $k$ adecuada estadísticamente?   \n",
    "Sabemos que al aumentar `k`, aumentamos el número de centroides y por ende, el número de grupos. Por lo tanto, habrá menos elementos en cada grupo conforme aumentemos `k`. Sin embargo, no podemos llegar a que cada observación es un grupo porque caemos en overfitting y la varianza de cada grupo será 0.\n",
    "\n",
    "Siguiendo el método del codo, creemos que la `k` donde más información ganamos es `k=4` ya que el codo de la gráfica en efecto está en 4. Además viendo la tabla de ganancia de información (disminución de la varianza) vemos que en `k=4` es dónde más información ganamos. Sin embargo, habría que consultar con los expertos de negocio ya que `k=6` podría ser una k factible ya que solo 4 grupos de personas para  un centro comercial más grande puede ser bajo. "
   ]
  },
  {
   "cell_type": "markdown",
   "metadata": {},
   "source": [
    "8. ¿Cuáles son los centroides de cada grupo?\n",
    "\n",
    "Como seleccionaremos `k=4`, entonces extraeremos esos centroides. \n"
   ]
  },
  {
   "cell_type": "code",
   "execution_count": 227,
   "metadata": {},
   "outputs": [
    {
     "data": {
      "text/html": [
       "<div>\n",
       "<style scoped>\n",
       "    .dataframe tbody tr th:only-of-type {\n",
       "        vertical-align: middle;\n",
       "    }\n",
       "\n",
       "    .dataframe tbody tr th {\n",
       "        vertical-align: top;\n",
       "    }\n",
       "\n",
       "    .dataframe thead th {\n",
       "        text-align: right;\n",
       "    }\n",
       "</style>\n",
       "<table border=\"1\" class=\"dataframe\">\n",
       "  <thead>\n",
       "    <tr style=\"text-align: right;\">\n",
       "      <th></th>\n",
       "      <th>Cluster</th>\n",
       "      <th>age</th>\n",
       "      <th>anual_income</th>\n",
       "      <th>spending_score</th>\n",
       "    </tr>\n",
       "  </thead>\n",
       "  <tbody>\n",
       "    <tr>\n",
       "      <th>0</th>\n",
       "      <td>0</td>\n",
       "      <td>-0.962492</td>\n",
       "      <td>-0.784763</td>\n",
       "      <td>0.392030</td>\n",
       "    </tr>\n",
       "    <tr>\n",
       "      <th>1</th>\n",
       "      <td>1</td>\n",
       "      <td>-0.428806</td>\n",
       "      <td>0.974847</td>\n",
       "      <td>1.216085</td>\n",
       "    </tr>\n",
       "    <tr>\n",
       "      <th>2</th>\n",
       "      <td>2</td>\n",
       "      <td>1.086161</td>\n",
       "      <td>-0.490565</td>\n",
       "      <td>-0.397174</td>\n",
       "    </tr>\n",
       "    <tr>\n",
       "      <th>3</th>\n",
       "      <td>3</td>\n",
       "      <td>0.037205</td>\n",
       "      <td>0.990115</td>\n",
       "      <td>-1.188757</td>\n",
       "    </tr>\n",
       "  </tbody>\n",
       "</table>\n",
       "</div>"
      ],
      "text/plain": [
       "   Cluster       age  anual_income  spending_score\n",
       "0        0 -0.962492     -0.784763        0.392030\n",
       "1        1 -0.428806      0.974847        1.216085\n",
       "2        2  1.086161     -0.490565       -0.397174\n",
       "3        3  0.037205      0.990115       -1.188757"
      ]
     },
     "execution_count": 227,
     "metadata": {},
     "output_type": "execute_result"
    }
   ],
   "source": [
    "centroids  = k_means_4.cluster_centers_\n",
    "centroids_df=pd.DataFrame(centroids, columns=['age','anual_income','spending_score'])\n",
    "centroids_df.insert(loc=0, column='Cluster', value=[0,1,2,3])\n",
    "centroids_df"
   ]
  },
  {
   "cell_type": "markdown",
   "metadata": {},
   "source": [
    "Visualización de Grupos con las 2 variables seleccionadas incluyendo centroides:"
   ]
  },
  {
   "cell_type": "code",
   "execution_count": 228,
   "metadata": {
    "scrolled": true
   },
   "outputs": [
    {
     "data": {
      "text/plain": [
       "Text(0.5, 1.0, 'Clusters generados para k=4')"
      ]
     },
     "execution_count": 228,
     "metadata": {},
     "output_type": "execute_result"
    },
    {
     "data": {
      "image/png": "[encoded data removed]",
      "text/plain": [
       "<Figure size 432x288 with 1 Axes>"
      ]
     },
     "metadata": {
      "needs_background": "light"
     },
     "output_type": "display_data"
    }
   ],
   "source": [
    "data[\"group\"]=labels\n",
    "sns.scatterplot(x='annual_income_(k$)', y='spending_score_(1-100)', hue=\"group\", data=data,palette=[\"orange\", \"blue\",\"green\", \"red\"])\n",
    "plt.scatter(\n",
    "    k_means_4.cluster_centers_[:, 1], k_means_4.cluster_centers_[:, 2],\n",
    "    s=250, marker='*',\n",
    "    c='purple', edgecolor='black',\n",
    "    label='centroids'\n",
    ")\n",
    "plt.legend(loc='center left', bbox_to_anchor=(1, 0.5), ncol=1)\n",
    "plt.title(\"Clusters generados para k=4\")"
   ]
  },
  {
   "cell_type": "markdown",
   "metadata": {},
   "source": [
    "Nuestra interpretación al ver estos clusters sería que tenemos 4 grupos de clientes:\n",
    "* Grupo 0: Aquellos clientes con poco poder adquisitivo (ingreso bajo) pero muy propensos a gastar (alto spending score)   \n",
    "* Grupo 1: Aquellos clientes con mucho poder adquisitivo (ingreso bajo) y que además son muy propensos a gastar (alto spending score). Este tipo de cliente es el más deseable para un centro comercial   \n",
    "* Grupo 2: Aquellos clientes con bajo ingreso y poco propensos a gastar. Estos clientes serían menos deseables comercialmente hablando.   \n",
    "* Grupo 3: Aquellos clientes con mucho poder adquisitivo pero moderados en su gasto y poco propensos a comprar. Este tipo de cliente puede ser deseable debido a que tiene alto poder adquisitivo entonces aunque no sea propenso a comprar, si llega a realizar una compra, será grande.    \n",
    "\n",
    "Por lo tanto, creemos que los grupos más deseables para un centro comercial son los pertenecientes al cluster 1 y o. En estos grupos el alto spending score significa que son propensos a realizar compras y a gastar. "
   ]
  },
  {
   "cell_type": "markdown",
   "metadata": {},
   "source": [
    "Ahora hagamos una visualización tomando en cuenta la variable género"
   ]
  },
  {
   "cell_type": "code",
   "execution_count": 229,
   "metadata": {},
   "outputs": [
    {
     "data": {
      "text/html": [
       "<div>\n",
       "<style scoped>\n",
       "    .dataframe tbody tr th:only-of-type {\n",
       "        vertical-align: middle;\n",
       "    }\n",
       "\n",
       "    .dataframe tbody tr th {\n",
       "        vertical-align: top;\n",
       "    }\n",
       "\n",
       "    .dataframe thead th {\n",
       "        text-align: right;\n",
       "    }\n",
       "</style>\n",
       "<table border=\"1\" class=\"dataframe\">\n",
       "  <thead>\n",
       "    <tr style=\"text-align: right;\">\n",
       "      <th></th>\n",
       "      <th>CustomerId</th>\n",
       "      <th>age</th>\n",
       "      <th>annual_income_(k$)</th>\n",
       "      <th>spending_score_(1-100)</th>\n",
       "      <th>cluster</th>\n",
       "      <th>sex</th>\n",
       "    </tr>\n",
       "  </thead>\n",
       "  <tbody>\n",
       "    <tr>\n",
       "      <th>0</th>\n",
       "      <td>1</td>\n",
       "      <td>-1.424569</td>\n",
       "      <td>-1.738999</td>\n",
       "      <td>-0.434801</td>\n",
       "      <td>0</td>\n",
       "      <td>0</td>\n",
       "    </tr>\n",
       "    <tr>\n",
       "      <th>1</th>\n",
       "      <td>2</td>\n",
       "      <td>-1.281035</td>\n",
       "      <td>-1.738999</td>\n",
       "      <td>1.195704</td>\n",
       "      <td>0</td>\n",
       "      <td>0</td>\n",
       "    </tr>\n",
       "    <tr>\n",
       "      <th>2</th>\n",
       "      <td>3</td>\n",
       "      <td>-1.352802</td>\n",
       "      <td>-1.700830</td>\n",
       "      <td>-1.715913</td>\n",
       "      <td>0</td>\n",
       "      <td>1</td>\n",
       "    </tr>\n",
       "    <tr>\n",
       "      <th>3</th>\n",
       "      <td>4</td>\n",
       "      <td>-1.137502</td>\n",
       "      <td>-1.700830</td>\n",
       "      <td>1.040418</td>\n",
       "      <td>0</td>\n",
       "      <td>1</td>\n",
       "    </tr>\n",
       "    <tr>\n",
       "      <th>4</th>\n",
       "      <td>5</td>\n",
       "      <td>-0.563369</td>\n",
       "      <td>-1.662660</td>\n",
       "      <td>-0.395980</td>\n",
       "      <td>0</td>\n",
       "      <td>1</td>\n",
       "    </tr>\n",
       "  </tbody>\n",
       "</table>\n",
       "</div>"
      ],
      "text/plain": [
       "   CustomerId       age  annual_income_(k$)  spending_score_(1-100)  cluster  \\\n",
       "0           1 -1.424569           -1.738999               -0.434801        0   \n",
       "1           2 -1.281035           -1.738999                1.195704        0   \n",
       "2           3 -1.352802           -1.700830               -1.715913        0   \n",
       "3           4 -1.137502           -1.700830                1.040418        0   \n",
       "4           5 -0.563369           -1.662660               -0.395980        0   \n",
       "\n",
       "  sex  \n",
       "0   0  \n",
       "1   0  \n",
       "2   1  \n",
       "3   1  \n",
       "4   1  "
      ]
     },
     "execution_count": 229,
     "metadata": {},
     "output_type": "execute_result"
    }
   ],
   "source": [
    "df=data.drop(['group'], axis=1)\n",
    "df.insert(loc=0, column='CustomerId', value=list(range(1, 201)))\n",
    "df[\"sex\"]=customers[\"gender\"]\n",
    "df.head()"
   ]
  },
  {
   "cell_type": "code",
   "execution_count": 230,
   "metadata": {
    "scrolled": false
   },
   "outputs": [
    {
     "data": {
      "text/plain": [
       "Text(0.5, 1.0, 'Clusters generados para k=4 (tomando en cuenta el género)')"
      ]
     },
     "execution_count": 230,
     "metadata": {},
     "output_type": "execute_result"
    },
    {
     "data": {
      "image/png": "[encoded data removed]",
      "text/plain": [
       "<Figure size 432x288 with 1 Axes>"
      ]
     },
     "metadata": {
      "needs_background": "light"
     },
     "output_type": "display_data"
    }
   ],
   "source": [
    "sns.scatterplot(x='annual_income_(k$)', y='spending_score_(1-100)', hue=\"cluster\",style=\"sex\",data=df,palette=[\"orange\", \"blue\",\"green\", \"red\"])\n",
    "plt.scatter(\n",
    "    k_means_4.cluster_centers_[:, 1], k_means_4.cluster_centers_[:, 2],\n",
    "    s=250, marker='*',\n",
    "    c='purple', edgecolor='black',\n",
    "    label='centroids'\n",
    ")\n",
    "plt.legend(loc='center left', bbox_to_anchor=(1, 0.5), ncol=1)\n",
    "plt.title(\"Clusters generados para k=4 (tomando en cuenta el género)\")"
   ]
  },
  {
   "cell_type": "markdown",
   "metadata": {},
   "source": [
    "9. Utilizando la variable Annual Income y Gender visualiza los grupos formados y los centroides asociados.\n"
   ]
  },
  {
   "cell_type": "code",
   "execution_count": 231,
   "metadata": {
    "scrolled": true
   },
   "outputs": [
    {
     "data": {
      "text/plain": [
       "Text(0.5, 1.0, 'Visualización de clusters mediante género e ingreso anual  para k=4')"
      ]
     },
     "execution_count": 231,
     "metadata": {},
     "output_type": "execute_result"
    },
    {
     "data": {
      "image/png": "[encoded data removed]",
      "text/plain": [
       "<Figure size 432x288 with 1 Axes>"
      ]
     },
     "metadata": {
      "needs_background": "light"
     },
     "output_type": "display_data"
    }
   ],
   "source": [
    "sns.scatterplot(x='sex', y='annual_income_(k$)', hue=\"cluster\",data=df,palette=[\"orange\", \"blue\",\"green\", \"red\"])\n",
    "plt.title(\"Visualización de clusters mediante género e ingreso anual  para k=4\")"
   ]
  },
  {
   "cell_type": "markdown",
   "metadata": {},
   "source": [
    "Podemos ver que parece haber un número parecido de hombres que de mujeres en los clusters. Además confirmamos algo que ya sabíamos: aquellas personas que pertenecen al cluster 1 y 3 tienen un ingreso muy alto pero los amarillos y verdes no lo tienen."
   ]
  },
  {
   "cell_type": "markdown",
   "metadata": {},
   "source": [
    "10. Para la descripción de los grupos utiliza 2 gráficas al menos por grupo que permitan visualizar alguna de las características más importantes."
   ]
  },
  {
   "cell_type": "markdown",
   "metadata": {},
   "source": [
    "Creemos que es importante segmentar cada cluster y darnos una idea de los valores que interesan: edad y spending score. También podemos visualizar el anual income aunque creemos que este es ligeramente menos relevante. La razón es que tal vez a un centro comercial no le interesa tanto cuanto gana la gente sino que tan propenso es el cliente a gastar y justo esto es lo que refleja el spending score. Tal vez la variable de ingreso anual interesa si lo que el centro comercial busca es desarrollar cierta imagen o será un centro comercial exclusivo. En ese caso buscará que acuda más gente con un alto ingreso anual aunque sea menos propensa a realizar compras.   \n",
    "\n",
    "Utilizaremos diagramas de caja para darnos una idea de los valores que tiene cada uno de nuestros clusters. Posteriormente describiremos las personas en cada cluster."
   ]
  },
  {
   "cell_type": "code",
   "execution_count": 232,
   "metadata": {},
   "outputs": [
    {
     "data": {
      "text/html": [
       "<div>\n",
       "<style scoped>\n",
       "    .dataframe tbody tr th:only-of-type {\n",
       "        vertical-align: middle;\n",
       "    }\n",
       "\n",
       "    .dataframe tbody tr th {\n",
       "        vertical-align: top;\n",
       "    }\n",
       "\n",
       "    .dataframe thead th {\n",
       "        text-align: right;\n",
       "    }\n",
       "</style>\n",
       "<table border=\"1\" class=\"dataframe\">\n",
       "  <thead>\n",
       "    <tr style=\"text-align: right;\">\n",
       "      <th></th>\n",
       "      <th>customerid</th>\n",
       "      <th>gender</th>\n",
       "      <th>age</th>\n",
       "      <th>annual_income_(k$)</th>\n",
       "      <th>spending_score_(1-100)</th>\n",
       "      <th>quartil</th>\n",
       "      <th>Cluster</th>\n",
       "    </tr>\n",
       "  </thead>\n",
       "  <tbody>\n",
       "    <tr>\n",
       "      <th>0</th>\n",
       "      <td>1</td>\n",
       "      <td>0</td>\n",
       "      <td>19</td>\n",
       "      <td>15</td>\n",
       "      <td>39</td>\n",
       "      <td>1</td>\n",
       "      <td>0</td>\n",
       "    </tr>\n",
       "    <tr>\n",
       "      <th>1</th>\n",
       "      <td>2</td>\n",
       "      <td>0</td>\n",
       "      <td>21</td>\n",
       "      <td>15</td>\n",
       "      <td>81</td>\n",
       "      <td>1</td>\n",
       "      <td>0</td>\n",
       "    </tr>\n",
       "    <tr>\n",
       "      <th>2</th>\n",
       "      <td>3</td>\n",
       "      <td>1</td>\n",
       "      <td>20</td>\n",
       "      <td>16</td>\n",
       "      <td>6</td>\n",
       "      <td>1</td>\n",
       "      <td>0</td>\n",
       "    </tr>\n",
       "    <tr>\n",
       "      <th>3</th>\n",
       "      <td>4</td>\n",
       "      <td>1</td>\n",
       "      <td>23</td>\n",
       "      <td>16</td>\n",
       "      <td>77</td>\n",
       "      <td>1</td>\n",
       "      <td>0</td>\n",
       "    </tr>\n",
       "    <tr>\n",
       "      <th>4</th>\n",
       "      <td>5</td>\n",
       "      <td>1</td>\n",
       "      <td>31</td>\n",
       "      <td>17</td>\n",
       "      <td>40</td>\n",
       "      <td>2</td>\n",
       "      <td>0</td>\n",
       "    </tr>\n",
       "  </tbody>\n",
       "</table>\n",
       "</div>"
      ],
      "text/plain": [
       "   customerid gender  age  annual_income_(k$)  spending_score_(1-100)  \\\n",
       "0           1      0   19                  15                      39   \n",
       "1           2      0   21                  15                      81   \n",
       "2           3      1   20                  16                       6   \n",
       "3           4      1   23                  16                      77   \n",
       "4           5      1   31                  17                      40   \n",
       "\n",
       "   quartil  Cluster  \n",
       "0        1        0  \n",
       "1        1        0  \n",
       "2        1        0  \n",
       "3        1        0  \n",
       "4        2        0  "
      ]
     },
     "execution_count": 232,
     "metadata": {},
     "output_type": "execute_result"
    }
   ],
   "source": [
    "customers[\"Cluster\"]=df[\"cluster\"]\n",
    "customers.head()"
   ]
  },
  {
   "cell_type": "code",
   "execution_count": 233,
   "metadata": {},
   "outputs": [
    {
     "data": {
      "text/plain": [
       "Text(0.5, 1.0, 'Diagrama de caja para la variable edad agrupados por cluster')"
      ]
     },
     "execution_count": 233,
     "metadata": {},
     "output_type": "execute_result"
    },
    {
     "data": {
      "image/png": "[encoded data removed]",
      "text/plain": [
       "<Figure size 432x288 with 1 Axes>"
      ]
     },
     "metadata": {
      "needs_background": "light"
     },
     "output_type": "display_data"
    }
   ],
   "source": [
    "sns.boxplot(x=\"Cluster\",y=\"age\", data=customers)\n",
    "plt.title('Diagrama de caja para la variable edad agrupados por cluster')"
   ]
  },
  {
   "cell_type": "code",
   "execution_count": 234,
   "metadata": {},
   "outputs": [
    {
     "data": {
      "text/plain": [
       "Text(0.5, 1.0, 'Diagrama de caja para la variable `spending score`  por cluster formado de edad')"
      ]
     },
     "execution_count": 234,
     "metadata": {},
     "output_type": "execute_result"
    },
    {
     "data": {
      "image/png": "[encoded data removed]",
      "text/plain": [
       "<Figure size 432x288 with 1 Axes>"
      ]
     },
     "metadata": {
      "needs_background": "light"
     },
     "output_type": "display_data"
    }
   ],
   "source": [
    "sns.boxplot(x=\"Cluster\",y=\"spending_score_(1-100)\", data=customers)\n",
    "plt.title('Diagrama de caja para la variable `spending score`  por cluster formado de edad')"
   ]
  },
  {
   "cell_type": "code",
   "execution_count": 235,
   "metadata": {},
   "outputs": [
    {
     "data": {
      "text/plain": [
       "Text(0.5, 1.0, 'Diagrama de caja para la variable `annual_income_(k$)` por Cluster formado')"
      ]
     },
     "execution_count": 235,
     "metadata": {},
     "output_type": "execute_result"
    },
    {
     "data": {
      "image/png": "[encoded data removed]",
      "text/plain": [
       "<Figure size 432x288 with 1 Axes>"
      ]
     },
     "metadata": {
      "needs_background": "light"
     },
     "output_type": "display_data"
    }
   ],
   "source": [
    "sns.boxplot(x=\"Cluster\",y=\"annual_income_(k$)\", data=customers)\n",
    "plt.title('Diagrama de caja para la variable `annual_income_(k$)` por Cluster formado')"
   ]
  },
  {
   "cell_type": "markdown",
   "metadata": {},
   "source": [
    "A partir de las gráficas anteriores podemos dar una descripción de cada cluster que hizo nuestro algoritmo.    \n",
    "\n",
    "* Cluster 0: Son gente joven. Tenemos desde adolescentes hasta adultos jóvenes. La mayoría de observaciones tienen entre 20 y 30 años de edad. Sin embargo, tienen bajo ingreso con respecto a los otros datos en el dataset. No obstante como comentábamos en la sección anterior, aunque tienen ingresos bajos, las observaciones de este cluster son altamente propensas a gastar ya que gran parte de las personas tienen un spending score muy alto.      \n",
    "\n",
    "\n",
    "* Cluster 1: Gran parte de las observaciones en este cluster son adultos ya no tan jóvenes. Todas las observaciones caen en un rango aproximado de entre 27 y 42 años. Podríamos considerar a estas personas como el mejor tipo de cliente ya que vemos que todas tienen un ingreso anual bastante alto y además la mitad de nuestros datos registran un spending score alto.       \n",
    "\n",
    "\n",
    "* Cluster 2: El cluster dos son principalmente \"Boomers\". Todas las personas de este cluster caen en un rango entre 35 y 70 años pero la mayoría está aproximadamente entre los 62 y 47 años. No cuentan con un ingreso tan alto. Sus ingresos están enre 20 y 80 mil pesos anuales. Tampoco son tan propesnsos a gastar ya que todos los datos presentan un spending score por debajo de 60. Podríamos decir que este tipo de cliente no es tan atractivo para el centro comercial ya que tienen un ingreso bajo y no son tan propensos a gastar.     \n",
    "\n",
    "\n",
    "* Cluster 3: Las personas en este cluster abarcan un rango de edad muy amplio por lo que tal vez no es buena métrica para hablar sobre este grupo. Las personas en este Cluster pueden estar entre los 20 y los 60 años. Sin embargo, podemos delimitar un poco diciendo que el 75% de los datos está por debajo de los 45 años. Ya que el rango de edad es amplio, veamos entonces lo que si tienen en común. Las personas de este grupo se caracterizan por tener un ingreso alto pero no ser muy propensas a gastar. Esto lo podemos intuir ya que tienen ingresos muy parecidos a los del grupo 2 pero con la gran diferencia de que su spending score es malo. De hecho, registran el peor spending score del dataset. Todos los datos en este grupo tienen un spending score menor a 42. Este tipo de cliente puede resultar  medianamente atractivo para los centros comerciales debido a su alto poder adquisitivo pero no tan deseable por ser menos propensos a gastar. "
   ]
  },
  {
   "cell_type": "markdown",
   "metadata": {},
   "source": [
    "### Apéndice: Kmeans incluyendo género como variables"
   ]
  },
  {
   "cell_type": "code",
   "execution_count": null,
   "metadata": {},
   "outputs": [],
   "source": []
  }
 ],
 "metadata": {
  "kernelspec": {
   "display_name": "Python [conda env:tareaMin] *",
   "language": "python",
   "name": "conda-env-tareaMin-py"
  },
  "language_info": {
   "codemirror_mode": {
    "name": "ipython",
    "version": 3
   },
   "file_extension": ".py",
   "mimetype": "text/x-python",
   "name": "python",
   "nbconvert_exporter": "python",
   "pygments_lexer": "ipython3",
   "version": "3.6.9"
  }
 },
 "nbformat": 4,
 "nbformat_minor": 2
}
